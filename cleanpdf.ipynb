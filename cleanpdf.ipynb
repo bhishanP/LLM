{
  "cells": [
    {
      "cell_type": "code",
      "execution_count": 1,
      "metadata": {
        "id": "pbxxOeKOKb29"
      },
      "outputs": [],
      "source": [
        "import pdfplumber as pp"
      ]
    },
    {
      "cell_type": "code",
      "execution_count": 2,
      "metadata": {
        "id": "rt1O7c7YL8bZ"
      },
      "outputs": [],
      "source": [
        "def extract_text_from_pdf(pdf_path):\n",
        "    text = \"\"\n",
        "    with pp.open(pdf_path) as pdf:\n",
        "        for page in pdf.pages:\n",
        "            text += page.extract_text()\n",
        "    return text\n",
        "\n",
        "pdf_path = \"data/Constitution-of-Nepal.pdf\"\n",
        "constitution_text = extract_text_from_pdf(pdf_path)"
      ]
    },
    {
      "cell_type": "code",
      "execution_count": 3,
      "metadata": {},
      "outputs": [],
      "source": [
        "constitution_text = constitution_text.translate(str.maketrans('', '', \"\\uf075\\uf0a3\\uf03c\"))"
      ]
    },
    {
      "cell_type": "code",
      "execution_count": 4,
      "metadata": {
        "colab": {
          "base_uri": "https://localhost:8080/"
        },
        "id": "RwcvvTzFQNEC",
        "outputId": "eb92c19f-ce73-4f00-da9c-dca06e6950e1"
      },
      "outputs": [],
      "source": [
        "import re\n",
        "\n",
        "def split_by_parts(text):\n",
        "    parts = re.split(r'(\\n\\(\\d+\\)Part-\\d+)', text)\n",
        "\n",
        "    structured_parts = []\n",
        "    for i in range(1, len(parts), 2):  # Step by 2 to get both part title and content\n",
        "        part_title = parts[i].strip().split(')')[1]\n",
        "        part_content = parts[i+1].strip()\n",
        "        structured_parts.append({\"title\": part_title, \"content\": part_content})\n",
        "\n",
        "    return structured_parts\n",
        "\n",
        "def split_by_schedule(text):\n",
        "    parts = re.split(r'(\\n\\(\\d+\\)Schedule-\\d+)', text)\n",
        "\n",
        "    structured_schedule = []\n",
        "    for i in range(1, len(parts), 2):\n",
        "        part_title = parts[i].strip().split(')')[1]\n",
        "        part_content = parts[i+1].strip()\n",
        "        structured_schedule.append({\"title\": part_title, \"content\": part_content})\n",
        "\n",
        "    return structured_schedule\n",
        "\n",
        "def split_into_articles(text):\n",
        "    articles = re.split(r'(\\n\\d+.)', text)\n",
        "    structured_articles = []\n",
        "\n",
        "    for i in range(1, len(articles), 2):  # Step by 2 (because of regex split)\n",
        "        title = articles[i].strip()\n",
        "        content = articles[i+1]\n",
        "        structured_articles.append({\"title\": \"Article \" + title[:-1], \"content\": content.strip()})\n",
        "    \n",
        "    return structured_articles\n"
      ]
    },
    {
      "cell_type": "code",
      "execution_count": 5,
      "metadata": {},
      "outputs": [],
      "source": [
        "document_parts = split_by_parts(constitution_text)"
      ]
    },
    {
      "cell_type": "code",
      "execution_count": 6,
      "metadata": {},
      "outputs": [],
      "source": [
        "idx = document_parts[-1]['content'].find(\"Schedule-1\")\n",
        "document_schedule = document_parts[-1]['content'][idx:]\n",
        "document_parts[-1]['content'] = document_parts[-1]['content'][:idx]"
      ]
    },
    {
      "cell_type": "code",
      "execution_count": 7,
      "metadata": {},
      "outputs": [],
      "source": [
        "for part in document_parts:\n",
        "    part[\"articles\"] = split_into_articles(part[\"content\"])"
      ]
    },
    {
      "cell_type": "code",
      "execution_count": 8,
      "metadata": {},
      "outputs": [],
      "source": [
        "for part in document_parts:\n",
        "    del part[\"content\"]"
      ]
    },
    {
      "cell_type": "code",
      "execution_count": 9,
      "metadata": {},
      "outputs": [],
      "source": [
        "document_schedule = \"\\n(1)\" + document_schedule"
      ]
    },
    {
      "cell_type": "code",
      "execution_count": 10,
      "metadata": {},
      "outputs": [],
      "source": [
        "document_by_schedule = split_by_schedule(document_schedule)"
      ]
    },
    {
      "cell_type": "code",
      "execution_count": 11,
      "metadata": {},
      "outputs": [],
      "source": [
        "for schedule in document_by_schedule:\n",
        "    schedule['content'] = schedule['content'].replace('\\n', ' ')\n",
        "\n",
        "for parts in document_parts:\n",
        "    for article in parts['articles']:\n",
        "        article['content'] = article['content'].replace('\\n', ' ')"
      ]
    },
    {
      "cell_type": "code",
      "execution_count": 12,
      "metadata": {},
      "outputs": [],
      "source": [
        "documents = document_parts + document_by_schedule"
      ]
    },
    {
      "cell_type": "code",
      "execution_count": 14,
      "metadata": {},
      "outputs": [
        {
          "data": {
            "text/plain": [
              "{'title': 'Part-1',\n",
              " 'articles': [{'title': 'Article 1',\n",
              "   'content': 'Constitution as Fundamental Law: (1) This Constitution is the fundamental law of Nepal. Any law inconsistent with this Constitution shall, to the extent of such inconsistency, be void. (2) It shall be the duty of every person to uphold this Constitution.'},\n",
              "  {'title': 'Article 2',\n",
              "   'content': 'Sovereignty and State Power: The sovereignty and State power of Nepal shall be vested in the Nepali people. It shall be exercised in accordance with the provisions set forth in this Constitution.'},\n",
              "  {'title': 'Article 3',\n",
              "   'content': 'Nation: All the Nepali people, with multi-ethnic, multi- lingual, multi-religious, multi-cultural characteristics and in geographical diversities, and having common aspirations and being united by a bond of allegiance to national independence, territorial integrity, national interest and prosperity of Nepal, collectively constitute the nation.'},\n",
              "  {'title': 'Article 4',\n",
              "   'content': 'State of Nepal: (1) Nepal is an independent, indivisible, sovereign, secular, inclusive, democratic, socialism- oriented, federal democratic republican State. Explanation: For the purposes of this Article, \"secular\" means religious, cultural freedoms, including protection of religion and culture handed down from time immemorial. (2) The territory of Nepal shall comprise the following:- (a) The territory existing at the time of commencement of this Constitution, and (3)(b) Such other territory as may be acquired after the commencement of this Constitution.'},\n",
              "  {'title': 'Article 5',\n",
              "   'content': 'National Interest: (1) Safeguarding of the freedom, sovereignty, territorial integrity, nationality, independence and dignity of Nepal, the rights of the Nepali people, border security, economic wellbeing and prosperity shall be the basic elements of the national interest of Nepal. (2) Any conduct and act contrary to the national interest shall be punishable in accordance with the federal law.'},\n",
              "  {'title': 'Article 6',\n",
              "   'content': 'Languages of Nation: All languages spoken as the mother tongues in Nepal are the languages of the nation.'},\n",
              "  {'title': 'Article 7',\n",
              "   'content': 'Official Language: (1) The Nepali language in the Devnagari script shall be the official language of Nepal. (2) A Province may, by a provincial law, determine one or more than one languages of the nation spoken by a majority of people within the Province as its official language or languages, in addition to the Nepali language. (3) Other matters relating to language shall be as decided by the Government of Nepal on recommendation of the Language Commission.'},\n",
              "  {'title': 'Article 8',\n",
              "   'content': 'National Flag: (1) The national flag of Nepal consists of two juxtaposed triangular figures with a crimson- coloured base and deep blue borders, there being a white emblem of the crescent moon with eight rays visible out of sixteen in the upper part and a white emblem of a twelve rayed sun in the lower part. (4)(2) The method of drawing out the flag and other particulars relating thereto shall be as provided for in Schedule-1.'},\n",
              "  {'title': 'Article 9',\n",
              "   'content': 'National Anthem and so on: (1) The national anthem of Nepal shall be as set forth in Schedule-2. (2) The coat-of-arms of Nepal shall be as set forth in Schedule-3. (3) The Rhododendron Arboreum shall be the national flower, Crimson Colour shall be the national colour, Cow shall be the national animal and Lophophorus shall be the national bird of Nepal.'}]}"
            ]
          },
          "execution_count": 14,
          "metadata": {},
          "output_type": "execute_result"
        }
      ],
      "source": [
        "documents[0]"
      ]
    },
    {
      "cell_type": "code",
      "execution_count": 15,
      "metadata": {},
      "outputs": [],
      "source": [
        "content = \"WE, THE SOVEREIGN PEOPLE OF NEPAL;   INTERNALIZING the people's sovereign right and right to  autonomy and self-rule, while maintaining freedom,  sovereignty, territorial integrity, national unity, independence  and dignity of Nepal;  RECALLING the g\"\n",
        "title = \"Preamble\"\n",
        "\n",
        "documents.insert(0, {\"title\": title, \"content\": content})"
      ]
    },
    {
      "cell_type": "code",
      "execution_count": 17,
      "metadata": {},
      "outputs": [
        {
          "data": {
            "text/plain": [
              "[{'title': 'Preamble',\n",
              "  'content': \"WE, THE SOVEREIGN PEOPLE OF NEPAL;   INTERNALIZING the people's sovereign right and right to  autonomy and self-rule, while maintaining freedom,  sovereignty, territorial integrity, national unity, independence  and dignity of Nepal;  RECALLING the g\"},\n",
              " {'title': 'Part-1',\n",
              "  'articles': [{'title': 'Article 1',\n",
              "    'content': 'Constitution as Fundamental Law: (1) This Constitution is the fundamental law of Nepal. Any law inconsistent with this Constitution shall, to the extent of such inconsistency, be void. (2) It shall be the duty of every person to uphold this Constitution.'},\n",
              "   {'title': 'Article 2',\n",
              "    'content': 'Sovereignty and State Power: The sovereignty and State power of Nepal shall be vested in the Nepali people. It shall be exercised in accordance with the provisions set forth in this Constitution.'},\n",
              "   {'title': 'Article 3',\n",
              "    'content': 'Nation: All the Nepali people, with multi-ethnic, multi- lingual, multi-religious, multi-cultural characteristics and in geographical diversities, and having common aspirations and being united by a bond of allegiance to national independence, territorial integrity, national interest and prosperity of Nepal, collectively constitute the nation.'},\n",
              "   {'title': 'Article 4',\n",
              "    'content': 'State of Nepal: (1) Nepal is an independent, indivisible, sovereign, secular, inclusive, democratic, socialism- oriented, federal democratic republican State. Explanation: For the purposes of this Article, \"secular\" means religious, cultural freedoms, including protection of religion and culture handed down from time immemorial. (2) The territory of Nepal shall comprise the following:- (a) The territory existing at the time of commencement of this Constitution, and (3)(b) Such other territory as may be acquired after the commencement of this Constitution.'},\n",
              "   {'title': 'Article 5',\n",
              "    'content': 'National Interest: (1) Safeguarding of the freedom, sovereignty, territorial integrity, nationality, independence and dignity of Nepal, the rights of the Nepali people, border security, economic wellbeing and prosperity shall be the basic elements of the national interest of Nepal. (2) Any conduct and act contrary to the national interest shall be punishable in accordance with the federal law.'},\n",
              "   {'title': 'Article 6',\n",
              "    'content': 'Languages of Nation: All languages spoken as the mother tongues in Nepal are the languages of the nation.'},\n",
              "   {'title': 'Article 7',\n",
              "    'content': 'Official Language: (1) The Nepali language in the Devnagari script shall be the official language of Nepal. (2) A Province may, by a provincial law, determine one or more than one languages of the nation spoken by a majority of people within the Province as its official language or languages, in addition to the Nepali language. (3) Other matters relating to language shall be as decided by the Government of Nepal on recommendation of the Language Commission.'},\n",
              "   {'title': 'Article 8',\n",
              "    'content': 'National Flag: (1) The national flag of Nepal consists of two juxtaposed triangular figures with a crimson- coloured base and deep blue borders, there being a white emblem of the crescent moon with eight rays visible out of sixteen in the upper part and a white emblem of a twelve rayed sun in the lower part. (4)(2) The method of drawing out the flag and other particulars relating thereto shall be as provided for in Schedule-1.'},\n",
              "   {'title': 'Article 9',\n",
              "    'content': 'National Anthem and so on: (1) The national anthem of Nepal shall be as set forth in Schedule-2. (2) The coat-of-arms of Nepal shall be as set forth in Schedule-3. (3) The Rhododendron Arboreum shall be the national flower, Crimson Colour shall be the national colour, Cow shall be the national animal and Lophophorus shall be the national bird of Nepal.'}]},\n",
              " {'title': 'Part-2',\n",
              "  'articles': [{'title': 'Article 10',\n",
              "    'content': 'Not to Deprive of Citizenship: (1) No citizen of Nepal shall be deprived of the right to obtain citizenship. (2) Provision of single federal citizenship with provincial identity has been made in Nepal.'},\n",
              "   {'title': 'Article 11',\n",
              "    'content': \"To be Citizens of Nepal: (1) The persons who have obtained the citizenship of Nepal at the time of commencement of this Constitution and who are qualified to obtain citizenship in accordance with this Part shall be the citizens of Nepal. (2) The following person who has his or her permanent domicile in Nepal at the time of commencement of this Constitution shall be the citizen of Nepal by descent:- (a) A person who has obtained the citizenship of Nepal by descent prior to the commencement of this Constitution; (b) A person whose father or mother was a citizen of Nepal at the time of his or her birth. (3) A child of a citizen having obtained the citizenship of Nepal by virtue of birth prior to the commencement of this Constitution shall, upon attaining the age of majority, acquire the citizenship of Nepal by descent in case the child's father and mother both are citizens of Nepal. (4) Every minor who is found within Nepal and the whereabouts of whose father and mother are not known shall, until the father or the mother of the child is traced, be a citizen of Nepal by descent. (6)(5) A person who is born in Nepal to a woman who is a citizen of Nepal and has resided in Nepal and whose father is not traced shall be provided with the citizenship of Nepal by descent. Provided that in case his or her father is held to be a foreign citizen, the citizenship of such person shall be converted into naturalized citizenship as provided for in the federal law. (6) A foreign woman who has a matrimonial relationship with a citizen of Nepal may, in case she so desires, acquire the naturalized citizenship of Nepal as provided for in the federal law. (7) Notwithstanding anything contained elsewhere in this Article, in the case of a person born to a woman who is a citizen of Nepal and married to a foreign citizen, the person may acquire the naturalized citizenship of Nepal in accordance with the federal law in case he or she has permanently resided in Nepal and has not acquired the citizenship of a foreign country. Provided that in case such person's mother and father both are citizens of Nepal at the time of acquisition of citizenship, such person born in Nepal may acquire the citizenship of Nepal by descent. (8) In the cases other than those referred to in this Article, the Government of Nepal may, in accordance with the federal law, grant the naturalized citizenship of Nepal. (9) The Government of Nepal may, in accordance with the federal law, grant the honorary citizenship of Nepal. (10) Whenever any territory is acquired by way of incorporation into Nepal, a person having his or her (7)domicile within such territory shall, subject to the federal law, become a citizen of Nepal.\"},\n",
              "   {'title': 'Article 12',\n",
              "    'content': 'Citizenship based on Descent along with Gender Identity: A person who is entitled to obtain the citizenship of Nepal by descent in accordance with this Constitution may obtain a certificate of citizenship of Nepal with gender identity by the name of his or her mother or father.'},\n",
              "   {'title': 'Article 13',\n",
              "    'content': 'Acquisition, Reacquisition and Termination of Citizenship: Other matters relating to the acquisition, reacquisition and termination of citizenship shall be as provided for in the federal law.'},\n",
              "   {'title': 'Article 14',\n",
              "    'content': 'Power to Grant non-resident Nepali Citizenship: The non-residential citizenship of Nepal may be so granted to a person who has acquired the citizenship of a foreign country, has resided in a country other than a Member State of the South Asian Association for Regional Cooperation, and who or whose father or mother, grandfather or grandmother was previously a citizen of Nepal by decent or birth but subsequently acquired the citizenship of the foreign country that such person may enjoy economic, social and cultural rights in accordance with the federal law.'},\n",
              "   {'title': 'Article 15',\n",
              "    'content': 'Other Provisions relating to Citizenship of Nepal: Other matters relating to the maintenance of records setting out the identity of every citizen of Nepal and the citizenship of Nepal shall be as provided for in the federal law.'}]}]"
            ]
          },
          "execution_count": 17,
          "metadata": {},
          "output_type": "execute_result"
        }
      ],
      "source": [
        "documents[:3]"
      ]
    },
    {
      "cell_type": "code",
      "execution_count": 18,
      "metadata": {},
      "outputs": [],
      "source": [
        "import json\n",
        "\n",
        "# Store structured parts and sections in a JSON file\n",
        "with open('constitution_nepal.json', 'w') as f:\n",
        "    json.dump(documents, f, indent=4)"
      ]
    }
  ],
  "metadata": {
    "colab": {
      "provenance": []
    },
    "kernelspec": {
      "display_name": "venv",
      "language": "python",
      "name": "python3"
    },
    "language_info": {
      "codemirror_mode": {
        "name": "ipython",
        "version": 3
      },
      "file_extension": ".py",
      "mimetype": "text/x-python",
      "name": "python",
      "nbconvert_exporter": "python",
      "pygments_lexer": "ipython3",
      "version": "3.12.2"
    }
  },
  "nbformat": 4,
  "nbformat_minor": 0
}
